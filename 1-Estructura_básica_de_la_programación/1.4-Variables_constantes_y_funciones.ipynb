{
 "cells": [
  {
   "cell_type": "markdown",
   "id": "0f785daf",
   "metadata": {},
   "source": [
    "# Variables, constantes y funciones"
   ]
  },
  {
   "cell_type": "markdown",
   "id": "03375b69",
   "metadata": {},
   "source": [
    "## Variables\n",
    "\n",
    "A menudo en nuestros programas querremos llamar a un mismo valor o arreglo de valores varias veces, e inclusive modificarlo y guardar el nuevo valor, descartando el anterior. Para esto existen las _variables_, que son nombres asociados a algún valor."
   ]
  },
  {
   "cell_type": "code",
   "execution_count": 4,
   "id": "bd2eee25",
   "metadata": {},
   "outputs": [
    {
     "data": {
      "text/plain": [
       "9"
      ]
     },
     "execution_count": 4,
     "metadata": {},
     "output_type": "execute_result"
    }
   ],
   "source": [
    "x #= Al ejecutar esto con un kernel \"limpio\", obtenemos un mensaje de error\n",
    "     que nos dice que la variable 'x' no está definida =#"
   ]
  },
  {
   "cell_type": "code",
   "execution_count": 2,
   "id": "0cdebd97",
   "metadata": {},
   "outputs": [
    {
     "data": {
      "text/plain": [
       "9"
      ]
     },
     "execution_count": 2,
     "metadata": {},
     "output_type": "execute_result"
    }
   ],
   "source": [
    "x = 9 # Asignamos el valor 9 a la variable x"
   ]
  },
  {
   "cell_type": "code",
   "execution_count": 3,
   "id": "6b08924e",
   "metadata": {},
   "outputs": [
    {
     "data": {
      "text/plain": [
       "9"
      ]
     },
     "execution_count": 3,
     "metadata": {},
     "output_type": "execute_result"
    }
   ],
   "source": [
    "x # Verificamos la asignación"
   ]
  },
  {
   "cell_type": "markdown",
   "id": "17bd7fc6",
   "metadata": {},
   "source": [
    "La sintáxis general es\n",
    "\n",
    "$\\text{nombre} \\ \\color{magenta}{\\textbf{=}} \\ \\text{valor}$\n",
    "\n",
    "La bondad de las variables es que, como en matemáticas, podemos utilizarlas para hacer operaciones:"
   ]
  },
  {
   "cell_type": "code",
   "execution_count": 5,
   "id": "1d5f63da",
   "metadata": {},
   "outputs": [
    {
     "data": {
      "text/plain": [
       "3×3 Matrix{Int64}:\n",
       " 10  11  12\n",
       " 13  14  15\n",
       " 16  17  18"
      ]
     },
     "execution_count": 5,
     "metadata": {},
     "output_type": "execute_result"
    }
   ],
   "source": [
    "M = [1 2 3 ; 4 5 6 ; 7 8 9]\n",
    "M .+ x # Sumamos el valor de 'x' a cada entrada de la matriz 'M'"
   ]
  },
  {
   "cell_type": "code",
   "execution_count": 6,
   "id": "02ab8eca",
   "metadata": {},
   "outputs": [
    {
     "data": {
      "text/plain": [
       "3×3 Matrix{Int64}:\n",
       " 1  2  3\n",
       " 4  5  6\n",
       " 7  8  9"
      ]
     },
     "execution_count": 6,
     "metadata": {},
     "output_type": "execute_result"
    }
   ],
   "source": [
    "M # ¡Observemos que el valor de M no ha cambiado, pues no lo reasignamos!"
   ]
  },
  {
   "cell_type": "markdown",
   "id": "a89eb003",
   "metadata": {},
   "source": [
    "Además, podemos cambiar sus valores:"
   ]
  },
  {
   "cell_type": "code",
   "execution_count": 12,
   "id": "8a1c3b4c",
   "metadata": {},
   "outputs": [
    {
     "data": {
      "text/plain": [
       "15"
      ]
     },
     "execution_count": 12,
     "metadata": {},
     "output_type": "execute_result"
    }
   ],
   "source": [
    "x = x + 1 # Ejecútalo varias veces y nota cómo cambia el valor asignado a x"
   ]
  },
  {
   "cell_type": "markdown",
   "id": "b79d43ef",
   "metadata": {},
   "source": [
    "Más aún, podemos asignarle valores de otros tipos (no numéricos) a las variables:"
   ]
  },
  {
   "cell_type": "code",
   "execution_count": 14,
   "id": "c6ff6c77",
   "metadata": {},
   "outputs": [
    {
     "data": {
      "text/plain": [
       "\"Valor tipo 'String'\""
      ]
     },
     "execution_count": 14,
     "metadata": {},
     "output_type": "execute_result"
    }
   ],
   "source": [
    "texto = \"Valor tipo 'String'\""
   ]
  },
  {
   "cell_type": "markdown",
   "id": "ca6f0c2d",
   "metadata": {},
   "source": [
    "y usar variables -con valores asignados- como argumentos de funciones:"
   ]
  },
  {
   "cell_type": "code",
   "execution_count": 15,
   "id": "099c3e56",
   "metadata": {},
   "outputs": [
    {
     "data": {
      "text/plain": [
       "\"valor tipo 'string'\""
      ]
     },
     "execution_count": 15,
     "metadata": {},
     "output_type": "execute_result"
    }
   ],
   "source": [
    "lowercase(texto)"
   ]
  },
  {
   "cell_type": "code",
   "execution_count": 16,
   "id": "e4df9dd0",
   "metadata": {},
   "outputs": [
    {
     "data": {
      "text/plain": [
       "\"VALOR TIPO 'STRING'\""
      ]
     },
     "execution_count": 16,
     "metadata": {},
     "output_type": "execute_result"
    }
   ],
   "source": [
    "uppercase(texto)"
   ]
  },
  {
   "cell_type": "markdown",
   "id": "7dadf223",
   "metadata": {},
   "source": [
    "### Operadores de actualización\n",
    "\n",
    "Dado lo común que es tener que redefinir el valor de una variable numérica en función de su valor anterior en aplicaciones numéricas, existe una sintáxis sencilla para hacer esto en Julia, utilizando un operador aritmético (como `+`, `-`, `/`, `*`, `^`, etcétera) _seguido inmediatamente del operador de asignación_ `=` **sin dejar espacio**."
   ]
  },
  {
   "cell_type": "code",
   "execution_count": 28,
   "id": "462d373c",
   "metadata": {},
   "outputs": [
    {
     "data": {
      "text/plain": [
       "27"
      ]
     },
     "execution_count": 28,
     "metadata": {},
     "output_type": "execute_result"
    }
   ],
   "source": [
    "x += 1 # Ejecútalo varias veces y nota cómo cambia el valor asignado a x"
   ]
  },
  {
   "cell_type": "markdown",
   "id": "28f5bc21",
   "metadata": {},
   "source": [
    "Podemos poner un punto `.` antes de un operador de actualización para actualizar todos los valores de un arreglo entrada a entrada:"
   ]
  },
  {
   "cell_type": "code",
   "execution_count": 29,
   "id": "0a7f2a79",
   "metadata": {},
   "outputs": [
    {
     "data": {
      "text/plain": [
       "3×3 Matrix{Int64}:\n",
       " 1  2  3\n",
       " 4  5  6\n",
       " 7  8  9"
      ]
     },
     "execution_count": 29,
     "metadata": {},
     "output_type": "execute_result"
    }
   ],
   "source": [
    "M"
   ]
  },
  {
   "cell_type": "code",
   "execution_count": 30,
   "id": "ecd9d0ce",
   "metadata": {},
   "outputs": [
    {
     "data": {
      "text/plain": [
       "3×3 Matrix{Int64}:\n",
       " 28  29  30\n",
       " 31  32  33\n",
       " 34  35  36"
      ]
     },
     "execution_count": 30,
     "metadata": {},
     "output_type": "execute_result"
    }
   ],
   "source": [
    "M .+= x # Actualizamos los valores de la matriz M entrada a entrada"
   ]
  },
  {
   "cell_type": "code",
   "execution_count": 32,
   "id": "987b53fd",
   "metadata": {},
   "outputs": [
    {
     "data": {
      "text/plain": [
       "3×3 Matrix{Int64}:\n",
       " 55  56  57\n",
       " 58  59  60\n",
       " 61  62  63"
      ]
     },
     "execution_count": 32,
     "metadata": {},
     "output_type": "execute_result"
    }
   ],
   "source": [
    "M = M .+ x"
   ]
  },
  {
   "cell_type": "code",
   "execution_count": 31,
   "id": "0c9a354a",
   "metadata": {},
   "outputs": [
    {
     "data": {
      "text/plain": [
       "3×3 Matrix{Int64}:\n",
       " 28  29  30\n",
       " 31  32  33\n",
       " 34  35  36"
      ]
     },
     "execution_count": 31,
     "metadata": {},
     "output_type": "execute_result"
    }
   ],
   "source": [
    "M # Verificamos la actualización"
   ]
  },
  {
   "cell_type": "markdown",
   "id": "9c57cf55",
   "metadata": {},
   "source": [
    "## Constantes\n",
    "\n",
    "Ver: [Constants](https://docs.julialang.org/en/v1/manual/variables-and-scoping/#Constants)."
   ]
  },
  {
   "cell_type": "markdown",
   "id": "ce005cd8",
   "metadata": {},
   "source": [
    "## Funciones\n",
    "\n",
    "Al programar, no sólo es común tener que llamar a un mismo valor una y otra vez, por lo que conviene asignárselo a una variable, sino que a menudo también necesitamos ejecutar una misma serie de instrucciones varias veces, la cual puede ser reemplazada por una función.\n",
    "\n",
    "Una _función_ es una secuencia de instrucciones _reutilizable_ diseñada para realizar un trabajo específico. Algunos ejemplos de funciones incluyen:"
   ]
  },
  {
   "cell_type": "code",
   "execution_count": 33,
   "id": "e9401c6f",
   "metadata": {},
   "outputs": [
    {
     "data": {
      "text/plain": [
       "2.220446049250313e-16"
      ]
     },
     "execution_count": 33,
     "metadata": {},
     "output_type": "execute_result"
    }
   ],
   "source": [
    "eps()\n",
    "# Devuelve la épsilon de máquina para datos de tipo Float64"
   ]
  },
  {
   "cell_type": "code",
   "execution_count": 34,
   "id": "902bd375",
   "metadata": {},
   "outputs": [
    {
     "data": {
      "text/plain": [
       "1452.902f0"
      ]
     },
     "execution_count": 34,
     "metadata": {},
     "output_type": "execute_result"
    }
   ],
   "source": [
    "Float32(1452902e-3) # Convierte valores numéricos a tipo Float3"
   ]
  },
  {
   "cell_type": "code",
   "execution_count": 35,
   "id": "81910ad5",
   "metadata": {},
   "outputs": [
    {
     "data": {
      "text/plain": [
       "9"
      ]
     },
     "execution_count": 35,
     "metadata": {},
     "output_type": "execute_result"
    }
   ],
   "source": [
    "length([1 2 3 ; 4 5 6 ; 7 8 9]) # Calcula la longitud de un arreglo"
   ]
  },
  {
   "cell_type": "code",
   "execution_count": 36,
   "id": "b3145f37",
   "metadata": {},
   "outputs": [
    {
     "data": {
      "text/plain": [
       "eps (generic function with 10 methods)"
      ]
     },
     "execution_count": 36,
     "metadata": {},
     "output_type": "execute_result"
    }
   ],
   "source": [
    "eps"
   ]
  },
  {
   "cell_type": "code",
   "execution_count": 38,
   "id": "7be18c9c",
   "metadata": {},
   "outputs": [
    {
     "ename": "LoadError",
     "evalue": "MethodError: no method matching Float32()\n\u001b[0mClosest candidates are:\n\u001b[0m  (::Type{T})(\u001b[91m::AbstractChar\u001b[39m) where T<:Union{AbstractChar, Number} at char.jl:50\n\u001b[0m  (::Type{T})(\u001b[91m::Base.TwicePrecision\u001b[39m) where T<:Number at twiceprecision.jl:266\n\u001b[0m  (::Type{T})(\u001b[91m::Complex\u001b[39m) where T<:Real at complex.jl:44\n\u001b[0m  ...",
     "output_type": "error",
     "traceback": [
      "MethodError: no method matching Float32()\n\u001b[0mClosest candidates are:\n\u001b[0m  (::Type{T})(\u001b[91m::AbstractChar\u001b[39m) where T<:Union{AbstractChar, Number} at char.jl:50\n\u001b[0m  (::Type{T})(\u001b[91m::Base.TwicePrecision\u001b[39m) where T<:Number at twiceprecision.jl:266\n\u001b[0m  (::Type{T})(\u001b[91m::Complex\u001b[39m) where T<:Real at complex.jl:44\n\u001b[0m  ...",
      "",
      "Stacktrace:",
      " [1] top-level scope",
      "   @ In[38]:1"
     ]
    }
   ],
   "source": [
    "Float32()"
   ]
  },
  {
   "cell_type": "markdown",
   "id": "27303ec3",
   "metadata": {},
   "source": [
    "### Definición de funciones\n",
    "\n",
    "La mayoría de los lenguajes de programación tienen una gran cantidad de funciones útiles predefinidas, pero también nos dan la opción de definir nuestras propias funciones. En Julia, la sintáxis para definir funciones es la siguiente\n",
    "\n",
    "$\\color{green}{\\textbf{function }} \\color{blue}{\\text{nombre}} \\text{(argumento1, argumento2, ... , argumentoN})$\n",
    "\n",
    "$\\quad \\quad \\text{bloque de instrucciones}$\n",
    "\n",
    "$\\color{green}{\\textbf{end}}$\n",
    "\n",
    "Al llamar una función de este tipo con valores en los argumentos, se crean variables de nombre $\\text{argumento1}, \\text{argumento2},$ etcétera, a las cuales se les asignan los valores ingresados. Estas variables pueden ser utilizadas en el $\\text{bloque de instrucciones}$, como en el siguiente ejemplo:"
   ]
  },
  {
   "cell_type": "code",
   "execution_count": 39,
   "id": "6a089ca0",
   "metadata": {},
   "outputs": [
    {
     "name": "stdout",
     "output_type": "stream",
     "text": [
      "¡Hola, grupo!"
     ]
    }
   ],
   "source": [
    "function imprimeTexto(texto)\n",
    "    \n",
    "    print(texto)\n",
    "    \n",
    "end\n",
    "\n",
    "imprimeTexto(\"¡Hola, grupo!\")"
   ]
  },
  {
   "cell_type": "markdown",
   "id": "58f9cf17",
   "metadata": {},
   "source": [
    "También es posible definir funciones _que no tengan argumentos_:"
   ]
  },
  {
   "cell_type": "code",
   "execution_count": 40,
   "id": "193494b5",
   "metadata": {},
   "outputs": [
    {
     "name": "stdout",
     "output_type": "stream",
     "text": [
      "¡Hola!"
     ]
    }
   ],
   "source": [
    "function saludo()\n",
    "    \n",
    "    print(\"¡Hola!\")\n",
    "    \n",
    "end\n",
    "\n",
    "y = saludo()"
   ]
  },
  {
   "cell_type": "markdown",
   "id": "80927ae6",
   "metadata": {},
   "source": [
    "Observemos que, en este caso, debemos escribir los paréntesis sin argumentos `()` para _llamar_ la función. Si sólo escribimos el nombre de la función, Julia nos la describirá pero no la ejecutará:"
   ]
  },
  {
   "cell_type": "code",
   "execution_count": 41,
   "id": "801eb8d8",
   "metadata": {},
   "outputs": [
    {
     "data": {
      "text/plain": [
       "saludo (generic function with 1 method)"
      ]
     },
     "execution_count": 41,
     "metadata": {},
     "output_type": "execute_result"
    }
   ],
   "source": [
    "saludo"
   ]
  },
  {
   "cell_type": "markdown",
   "id": "b94fad92",
   "metadata": {},
   "source": [
    "A las variables también les podemos asignar el _nombre_ de una función:"
   ]
  },
  {
   "cell_type": "code",
   "execution_count": 42,
   "id": "c189e1d6",
   "metadata": {},
   "outputs": [
    {
     "ename": "LoadError",
     "evalue": "UndefVarError: salu2 not defined",
     "output_type": "error",
     "traceback": [
      "UndefVarError: salu2 not defined",
      ""
     ]
    }
   ],
   "source": [
    "salu2 #= Al ejecutar esto con un kernel \"limpio\", obtenemos un mensaje de error\n",
    "     que nos dice que la variable 'salu2' no está definida =#"
   ]
  },
  {
   "cell_type": "code",
   "execution_count": 43,
   "id": "2fcacdcb",
   "metadata": {},
   "outputs": [
    {
     "data": {
      "text/plain": [
       "saludo (generic function with 1 method)"
      ]
     },
     "execution_count": 43,
     "metadata": {},
     "output_type": "execute_result"
    }
   ],
   "source": [
    "salu2 = saludo # Le asignamos a 'salu2' el nombre de la función 'saludo'"
   ]
  },
  {
   "cell_type": "code",
   "execution_count": 44,
   "id": "5935008f",
   "metadata": {},
   "outputs": [
    {
     "name": "stdout",
     "output_type": "stream",
     "text": [
      "¡Hola!"
     ]
    }
   ],
   "source": [
    "salu2() # Ahora tenemos una función 'salu2' que hace lo mismo que 'saludo'"
   ]
  },
  {
   "cell_type": "markdown",
   "id": "c8b9f0b9",
   "metadata": {},
   "source": [
    "Si queremos que alguno de los argumentos tenga un valor _predeterminado_ en caso de que, al llamar la función, se omita un valor en dicho argumento, podemos utilizar la sintáxis\n",
    "\n",
    "$\\color{green}{\\textbf{function }} \\color{blue}{\\text{nombre}} \\text{(argumento=valor_predeterminado})$\n",
    "\n",
    "$\\quad \\quad \\text{bloque de instrucciones}$\n",
    "\n",
    "$\\color{green}{\\textbf{end}}$\n",
    "\n",
    "por ejemplo, en:"
   ]
  },
  {
   "cell_type": "code",
   "execution_count": 49,
   "id": "ef4d560e",
   "metadata": {},
   "outputs": [
    {
     "data": {
      "text/plain": [
       "epsilonDeMáquina (generic function with 2 methods)"
      ]
     },
     "execution_count": 49,
     "metadata": {},
     "output_type": "execute_result"
    }
   ],
   "source": [
    "function epsilonDeMáquina(f=Float64)\n",
    "    \n",
    "    eps(f)\n",
    "    \n",
    "end"
   ]
  },
  {
   "cell_type": "code",
   "execution_count": 46,
   "id": "e13f6e88",
   "metadata": {},
   "outputs": [
    {
     "data": {
      "text/plain": [
       "2.220446049250313e-16"
      ]
     },
     "execution_count": 46,
     "metadata": {},
     "output_type": "execute_result"
    }
   ],
   "source": [
    "epsilonDeMáquina()"
   ]
  },
  {
   "cell_type": "markdown",
   "id": "b7d2d766",
   "metadata": {},
   "source": [
    "**Nota** Podemos utilizar los caracteres Unicode que obtenemos a través de escribir comandos de LaTeX y presionar la tecla `TAB` (como vimos en el _notebook_ [`1.3-Tipos_de_datos_de_texto_y_arreglos.ipynb`](./1.3-Tipos_de_datos_de_texto_y_arreglos.ipynb)) para definir variables y funciones:"
   ]
  },
  {
   "cell_type": "markdown",
   "id": "8166ce64",
   "metadata": {},
   "source": [
    "**Ejercicio** Reescribe la definición de la función `epsilonDeMáquina` con el nombre $\\varepsilon$ y verifica que funcione igual."
   ]
  },
  {
   "cell_type": "code",
   "execution_count": 47,
   "id": "e4cac39a",
   "metadata": {},
   "outputs": [
    {
     "data": {
      "text/plain": [
       "epsilonDeMáquina (generic function with 2 methods)"
      ]
     },
     "execution_count": 47,
     "metadata": {},
     "output_type": "execute_result"
    }
   ],
   "source": [
    "epsilonDeMáquina "
   ]
  },
  {
   "cell_type": "markdown",
   "id": "186492fb",
   "metadata": {},
   "source": [
    "**Nota** La definición de _función_ en programación es diferente a la noción matemática:\n",
    "* En matemáticas, las funciones siempre deben tomar uno o más valores _de entrada_ y a cada valor de entrada (del dominio) le corresponde un valor _de salida_;\n",
    "* en programación, podemos además tener funciones que _no tomen valores de entrada_ (como `eps` en el ejemplo anterior) y aún así devuelvan un valor de salida, o funciones que no devuelvan _valores_ de salida (como en el ejemplo de la función definida arriba).\n",
    "\n",
    "Las funciones que involucran cálculos numéricos se pueden definir utilizando una sintáxis más familiar, a través de una _regla de correspondencia_:"
   ]
  },
  {
   "cell_type": "code",
   "execution_count": 50,
   "id": "55317dbc",
   "metadata": {},
   "outputs": [
    {
     "data": {
      "text/plain": [
       "0"
      ]
     },
     "execution_count": 50,
     "metadata": {},
     "output_type": "execute_result"
    }
   ],
   "source": [
    "productoPuntoR2(u1,u2,v1,v2) = u1*v1 + u2*v2\n",
    "\n",
    "productoPuntoR2(1,0,0,1)"
   ]
  },
  {
   "cell_type": "code",
   "execution_count": 51,
   "id": "15dd44a4",
   "metadata": {},
   "outputs": [
    {
     "data": {
      "text/plain": [
       "0.0"
      ]
     },
     "execution_count": 51,
     "metadata": {},
     "output_type": "execute_result"
    }
   ],
   "source": [
    "normaR2(x,y) = sqrt(productoPuntoR2(x,y,x,y))\n",
    "\n",
    "#= Aquí utilizamos una función previamente definida dentro de la regla de\n",
    "   correspondencia =#\n",
    "\n",
    "normaR2(0,0)"
   ]
  },
  {
   "cell_type": "markdown",
   "id": "439396a7",
   "metadata": {},
   "source": [
    "Las funciones nos brindan la posibilidad de dividir un programa largo en pedazos cortos y modulares, así como ahorrarnos el tener que escribir un mismo bloque de código multiples veces."
   ]
  },
  {
   "cell_type": "markdown",
   "id": "1bb10188",
   "metadata": {},
   "source": [
    "**Nota** Si creamos una función y la usamos en varias partes de nuestro programa entonces, ¡cada vez que modifiquemos dicha función deberemos revisar que siga funcionando correctamente en cada parte del programa donde la usamos!"
   ]
  },
  {
   "cell_type": "markdown",
   "id": "447c223c",
   "metadata": {},
   "source": [
    "**Nota** Algunas palabras están 'reservadas' por Julia para usos específicos (como `function` que, como acabamos de ver, se usa para declarar la definición de una función), por lo que **no podemos usarlas para definir variables ni funciones**. Estas palabras se conocen como _Keywords_, y puedes consultar una lista de ellas [aquí](https://docs.julialang.org/en/v1/base/base/#Keywords)."
   ]
  },
  {
   "cell_type": "markdown",
   "id": "e861618c",
   "metadata": {},
   "source": [
    "### ¿Cuándo creo una función?\n",
    "\n",
    "* Cuando tengas un bloque de código recurrente en tu programa, considera hacerlo una función.\n",
    "* Cuanto tengas un bloque de código que quieres reusar o generalizar, conviértelo en una función.\n",
    "* Cuando tengas un bloque de código muy complejo y difícil de leer, considera crear una o más funciones más sencillas para llamarlas y aclarar el código.\n",
    "* Cuando quieras hacer un ciclo recursivo (esto lo veremos más adelante)."
   ]
  },
  {
   "cell_type": "markdown",
   "id": "1fffaf32",
   "metadata": {},
   "source": [
    "## Recursos complementarios\n",
    "\n",
    "Manuales de Julia:\n",
    "* [Variables](https://docs.julialang.org/en/v1/manual/variables/),\n",
    "* [Constantes](https://docs.julialang.org/en/v1/manual/variables-and-scoping/#Constants),\n",
    "* [Funciones](https://docs.julialang.org/en/v1/manual/functions/),\n",
    "* [`return`](https://docs.julialang.org/en/v1/manual/functions/#The-return-Keyword)."
   ]
  }
 ],
 "metadata": {
  "kernelspec": {
   "display_name": "Julia 1.9.0",
   "language": "julia",
   "name": "julia-1.9"
  },
  "language_info": {
   "file_extension": ".jl",
   "mimetype": "application/julia",
   "name": "julia",
   "version": "1.9.0"
  }
 },
 "nbformat": 4,
 "nbformat_minor": 5
}
